{
 "cells": [
  {
   "cell_type": "code",
   "execution_count": 1,
   "id": "a5d422b2",
   "metadata": {},
   "outputs": [
    {
     "name": "stdout",
     "output_type": "stream",
     "text": [
      "Requirement already satisfied: segmentation-models-pytorch in c:\\users\\aydar\\anaconda3\\lib\\site-packages (0.3.3)\n",
      "Requirement already satisfied: torchvision>=0.5.0 in c:\\users\\aydar\\anaconda3\\lib\\site-packages (from segmentation-models-pytorch) (0.15.2)\n",
      "Requirement already satisfied: pretrainedmodels==0.7.4 in c:\\users\\aydar\\anaconda3\\lib\\site-packages (from segmentation-models-pytorch) (0.7.4)\n",
      "Requirement already satisfied: efficientnet-pytorch==0.7.1 in c:\\users\\aydar\\anaconda3\\lib\\site-packages (from segmentation-models-pytorch) (0.7.1)\n",
      "Requirement already satisfied: timm==0.9.2 in c:\\users\\aydar\\anaconda3\\lib\\site-packages (from segmentation-models-pytorch) (0.9.2)\n",
      "Requirement already satisfied: tqdm in c:\\users\\aydar\\anaconda3\\lib\\site-packages (from segmentation-models-pytorch) (4.64.1)\n",
      "Requirement already satisfied: pillow in c:\\users\\aydar\\anaconda3\\lib\\site-packages (from segmentation-models-pytorch) (9.2.0)\n",
      "Requirement already satisfied: torch in c:\\users\\aydar\\anaconda3\\lib\\site-packages (from efficientnet-pytorch==0.7.1->segmentation-models-pytorch) (2.0.1)\n",
      "Requirement already satisfied: munch in c:\\users\\aydar\\anaconda3\\lib\\site-packages (from pretrainedmodels==0.7.4->segmentation-models-pytorch) (3.0.0)\n",
      "Requirement already satisfied: pyyaml in c:\\users\\aydar\\anaconda3\\lib\\site-packages (from timm==0.9.2->segmentation-models-pytorch) (6.0)\n",
      "Requirement already satisfied: huggingface-hub in c:\\users\\aydar\\anaconda3\\lib\\site-packages (from timm==0.9.2->segmentation-models-pytorch) (0.15.1)\n",
      "Requirement already satisfied: safetensors in c:\\users\\aydar\\anaconda3\\lib\\site-packages (from timm==0.9.2->segmentation-models-pytorch) (0.3.1)\n",
      "Requirement already satisfied: numpy in c:\\users\\aydar\\anaconda3\\lib\\site-packages (from torchvision>=0.5.0->segmentation-models-pytorch) (1.21.5)\n",
      "Requirement already satisfied: requests in c:\\users\\aydar\\anaconda3\\lib\\site-packages (from torchvision>=0.5.0->segmentation-models-pytorch) (2.28.1)\n",
      "Requirement already satisfied: filelock in c:\\users\\aydar\\anaconda3\\lib\\site-packages (from torch->efficientnet-pytorch==0.7.1->segmentation-models-pytorch) (3.6.0)\n",
      "Requirement already satisfied: typing-extensions in c:\\users\\aydar\\anaconda3\\lib\\site-packages (from torch->efficientnet-pytorch==0.7.1->segmentation-models-pytorch) (4.3.0)\n",
      "Requirement already satisfied: sympy in c:\\users\\aydar\\anaconda3\\lib\\site-packages (from torch->efficientnet-pytorch==0.7.1->segmentation-models-pytorch) (1.10.1)\n",
      "Requirement already satisfied: networkx in c:\\users\\aydar\\anaconda3\\lib\\site-packages (from torch->efficientnet-pytorch==0.7.1->segmentation-models-pytorch) (2.8.4)\n",
      "Requirement already satisfied: jinja2 in c:\\users\\aydar\\anaconda3\\lib\\site-packages (from torch->efficientnet-pytorch==0.7.1->segmentation-models-pytorch) (2.11.3)\n",
      "Requirement already satisfied: colorama in c:\\users\\aydar\\anaconda3\\lib\\site-packages (from tqdm->segmentation-models-pytorch) (0.4.5)\n",
      "Requirement already satisfied: fsspec in c:\\users\\aydar\\anaconda3\\lib\\site-packages (from huggingface-hub->timm==0.9.2->segmentation-models-pytorch) (2022.7.1)\n",
      "Requirement already satisfied: packaging>=20.9 in c:\\users\\aydar\\anaconda3\\lib\\site-packages (from huggingface-hub->timm==0.9.2->segmentation-models-pytorch) (21.3)\n",
      "Requirement already satisfied: six in c:\\users\\aydar\\anaconda3\\lib\\site-packages (from munch->pretrainedmodels==0.7.4->segmentation-models-pytorch) (1.16.0)\n",
      "Requirement already satisfied: charset-normalizer<3,>=2 in c:\\users\\aydar\\anaconda3\\lib\\site-packages (from requests->torchvision>=0.5.0->segmentation-models-pytorch) (2.0.4)\n",
      "Requirement already satisfied: idna<4,>=2.5 in c:\\users\\aydar\\anaconda3\\lib\\site-packages (from requests->torchvision>=0.5.0->segmentation-models-pytorch) (3.3)\n",
      "Requirement already satisfied: urllib3<1.27,>=1.21.1 in c:\\users\\aydar\\anaconda3\\lib\\site-packages (from requests->torchvision>=0.5.0->segmentation-models-pytorch) (1.26.11)\n",
      "Requirement already satisfied: certifi>=2017.4.17 in c:\\users\\aydar\\anaconda3\\lib\\site-packages (from requests->torchvision>=0.5.0->segmentation-models-pytorch) (2023.5.7)\n",
      "Requirement already satisfied: pyparsing!=3.0.5,>=2.0.2 in c:\\users\\aydar\\anaconda3\\lib\\site-packages (from packaging>=20.9->huggingface-hub->timm==0.9.2->segmentation-models-pytorch) (3.0.9)\n",
      "Requirement already satisfied: MarkupSafe>=0.23 in c:\\users\\aydar\\anaconda3\\lib\\site-packages (from jinja2->torch->efficientnet-pytorch==0.7.1->segmentation-models-pytorch) (2.0.1)\n",
      "Requirement already satisfied: mpmath>=0.19 in c:\\users\\aydar\\anaconda3\\lib\\site-packages (from sympy->torch->efficientnet-pytorch==0.7.1->segmentation-models-pytorch) (1.2.1)\n"
     ]
    }
   ],
   "source": [
    "!pip install segmentation-models-pytorch"
   ]
  },
  {
   "cell_type": "code",
   "execution_count": 2,
   "id": "5d38b2a2",
   "metadata": {},
   "outputs": [],
   "source": [
    "import cv2\n",
    "import matplotlib.pyplot as plt\n",
    "import numpy as np\n",
    "import os\n",
    "import re\n",
    "import glob\n",
    "%matplotlib inline\n",
    "import pandas as pd\n",
    "from tqdm import tqdm"
   ]
  },
  {
   "cell_type": "code",
   "execution_count": 3,
   "id": "75f817a8",
   "metadata": {},
   "outputs": [],
   "source": [
    "def create_mask(img):\n",
    "    mask = img.copy()\n",
    "    mask[mask>0] = 1\n",
    "    return mask"
   ]
  },
  {
   "cell_type": "code",
   "execution_count": 4,
   "id": "f850ad67",
   "metadata": {},
   "outputs": [],
   "source": [
    "def detect_largest_poly(mask: np.array) -> np.array:\n",
    "    # преобразуем изображение в черно-белое\n",
    "    #gray = cv2.cvtColor(mask, cv2.COLOR_BGR2GRAY)\n",
    "\n",
    "    # находим контуры\n",
    "    contours, _ = cv2.findContours(mask, cv2.RETR_EXTERNAL, cv2.CHAIN_APPROX_SIMPLE)\n",
    "\n",
    "\n",
    "    # инициализируем переменную для хранения площади наибольшего полигона\n",
    "    largest_area = 0\n",
    "    largest_contour = None\n",
    "\n",
    "    # перебираем все контуры\n",
    "    for contour in contours:\n",
    "        # вычисляем площадь текущего полигона\n",
    "        area = cv2.contourArea(contour)\n",
    "        # если площадь текущего полигона больше площади наибольшего полигона, то сохраняем его площадь\n",
    "        if area > largest_area:\n",
    "            largest_area = area\n",
    "            largest_contour = contour\n",
    "\n",
    "    image_copy = np.zeros(mask.shape)\n",
    "    # копируем текущий полигон в изображение-копию\n",
    "    cv2.drawContours(image_copy, [largest_contour], -1, 255, cv2.FILLED)\n",
    "    return image_copy"
   ]
  },
  {
   "cell_type": "code",
   "execution_count": 5,
   "id": "6c11f5a2",
   "metadata": {},
   "outputs": [],
   "source": [
    "#path = r'E:\\Files\\data\\cut_out'\n",
    "path = r'E:\\Загрузки\\Даша15'"
   ]
  },
  {
   "cell_type": "code",
   "execution_count": 55,
   "id": "0cc791d1",
   "metadata": {
    "scrolled": true
   },
   "outputs": [
    {
     "name": "stderr",
     "output_type": "stream",
     "text": [
      "\r",
      "  0%|                                                                                           | 0/52 [00:00<?, ?it/s]"
     ]
    },
    {
     "name": "stdout",
     "output_type": "stream",
     "text": [
      "<class 'numpy.ndarray'> E:\\Files\\data\\cut_out\\Crasp\\Crasp_036a.tif\n",
      "<class 'numpy.ndarray'> E:\\Files\\data\\cut_out\\Crasp\\Crasp_052a.tif\n"
     ]
    },
    {
     "name": "stderr",
     "output_type": "stream",
     "text": [
      "  6%|████▊                                                                              | 3/52 [00:00<00:12,  4.06it/s]"
     ]
    },
    {
     "name": "stdout",
     "output_type": "stream",
     "text": [
      "<class 'numpy.ndarray'> E:\\Files\\data\\cut_out\\Crasp\\V3_Crasp_033a.tif\n",
      "<class 'numpy.ndarray'> E:\\Files\\data\\cut_out\\Crasp\\V_Crasp_035a.tif\n",
      "<class 'numpy.ndarray'> E:\\Files\\data\\cut_out\\Crasp\\V_Crasp_036a.tif\n"
     ]
    },
    {
     "name": "stderr",
     "output_type": "stream",
     "text": [
      " 13%|███████████▏                                                                       | 7/52 [00:01<00:06,  7.35it/s]"
     ]
    },
    {
     "name": "stdout",
     "output_type": "stream",
     "text": [
      "<class 'numpy.ndarray'> E:\\Files\\data\\cut_out\\Crasp\\V_Crasp_037a.tif\n",
      "<class 'numpy.ndarray'> E:\\Files\\data\\cut_out\\Crasp\\V_Crasp_038a.tif\n",
      "<class 'numpy.ndarray'> E:\\Files\\data\\cut_out\\Crasp\\V_Crasp_051.tif\n"
     ]
    },
    {
     "name": "stderr",
     "output_type": "stream",
     "text": [
      " 17%|██████████████▎                                                                    | 9/52 [00:01<00:06,  6.46it/s]"
     ]
    },
    {
     "name": "stdout",
     "output_type": "stream",
     "text": [
      "<class 'numpy.ndarray'> E:\\Files\\data\\cut_out\\LepiC\\LepiC_001.tif\n",
      "<class 'numpy.ndarray'> E:\\Files\\data\\cut_out\\LepiC\\LepiC_003.tif\n",
      "<class 'numpy.ndarray'> E:\\Files\\data\\cut_out\\LepiC\\LepiC_004.tif\n"
     ]
    },
    {
     "name": "stderr",
     "output_type": "stream",
     "text": [
      " 25%|████████████████████▌                                                             | 13/52 [00:01<00:04,  8.64it/s]"
     ]
    },
    {
     "name": "stdout",
     "output_type": "stream",
     "text": [
      "<class 'numpy.ndarray'> E:\\Files\\data\\cut_out\\LepiC\\LepiC_005.tif\n",
      "<class 'numpy.ndarray'> E:\\Files\\data\\cut_out\\LepiC\\LepiC_007a.tif\n",
      "<class 'numpy.ndarray'> E:\\Files\\data\\cut_out\\LepiC\\LepiC_022.tif\n"
     ]
    },
    {
     "name": "stderr",
     "output_type": "stream",
     "text": [
      " 31%|█████████████████████████▏                                                        | 16/52 [00:02<00:03,  9.42it/s]"
     ]
    },
    {
     "name": "stdout",
     "output_type": "stream",
     "text": [
      "<class 'numpy.ndarray'> E:\\Files\\data\\cut_out\\LepiC\\LepiC_023a.tif\n",
      "<class 'numpy.ndarray'> E:\\Files\\data\\cut_out\\Lepid O-1\\LepidO_021.tif\n",
      "<class 'numpy.ndarray'> E:\\Files\\data\\cut_out\\Lepid O-1\\LepidO_023.tif\n"
     ]
    },
    {
     "name": "stderr",
     "output_type": "stream",
     "text": [
      " 37%|█████████████████████████████▉                                                    | 19/52 [00:02<00:03,  9.67it/s]"
     ]
    },
    {
     "name": "stdout",
     "output_type": "stream",
     "text": [
      "<class 'numpy.ndarray'> E:\\Files\\data\\cut_out\\Lepid O-1\\LepidO_024.tif\n",
      "<class 'numpy.ndarray'> E:\\Files\\data\\cut_out\\Lepid O-1\\LepidO_025.tif\n",
      "<class 'numpy.ndarray'> E:\\Files\\data\\cut_out\\Lepid O-1\\LepidO_026.tif\n"
     ]
    },
    {
     "name": "stderr",
     "output_type": "stream",
     "text": [
      " 40%|█████████████████████████████████                                                 | 21/52 [00:02<00:03,  8.09it/s]"
     ]
    },
    {
     "name": "stdout",
     "output_type": "stream",
     "text": [
      "<class 'numpy.ndarray'> E:\\Files\\data\\cut_out\\Lepid O-1\\LepidO_034.tif\n",
      "<class 'numpy.ndarray'> E:\\Files\\data\\cut_out\\Lepid O-1\\LepidO_035.tif\n"
     ]
    },
    {
     "name": "stderr",
     "output_type": "stream",
     "text": [
      " 44%|████████████████████████████████████▎                                             | 23/52 [00:03<00:03,  8.04it/s]"
     ]
    },
    {
     "name": "stdout",
     "output_type": "stream",
     "text": [
      "<class 'numpy.ndarray'> E:\\Files\\data\\cut_out\\Lepid St-1\\LepidSt_001.tif\n",
      "<class 'numpy.ndarray'> E:\\Files\\data\\cut_out\\Lepid St-1\\LepidSt_004.tif\n",
      "<class 'numpy.ndarray'> E:\\Files\\data\\cut_out\\Lepid St-1\\LepidSt_005.tif\n"
     ]
    },
    {
     "name": "stderr",
     "output_type": "stream",
     "text": [
      " 52%|██████████████████████████████████████████▌                                       | 27/52 [00:03<00:02, 10.30it/s]"
     ]
    },
    {
     "name": "stdout",
     "output_type": "stream",
     "text": [
      "<class 'numpy.ndarray'> E:\\Files\\data\\cut_out\\Lepid St-1\\LepidSt_006.tif\n",
      "<class 'numpy.ndarray'> E:\\Files\\data\\cut_out\\Lepid St-1\\LepidSt_018.tif\n",
      "<class 'numpy.ndarray'> E:\\Files\\data\\cut_out\\Lepid St-1\\LepidSt_019.tif\n"
     ]
    },
    {
     "name": "stderr",
     "output_type": "stream",
     "text": [
      "\r",
      " 56%|█████████████████████████████████████████████▋                                    | 29/52 [00:03<00:02, 10.30it/s]"
     ]
    },
    {
     "name": "stdout",
     "output_type": "stream",
     "text": [
      "<class 'numpy.ndarray'> E:\\Files\\data\\cut_out\\Lepid St-1\\LepidSt_020.tif\n",
      "<class 'NoneType'> E:\\Files\\data\\cut_out\\LepidKr\\LepidKr_001.tif\n",
      "<class 'NoneType'> E:\\Files\\data\\cut_out\\LepidKr\\LepidKr_004.tif\n",
      "<class 'numpy.ndarray'> E:\\Files\\data\\cut_out\\LepidKr\\LepidKr_010a.tif\n"
     ]
    },
    {
     "name": "stderr",
     "output_type": "stream",
     "text": [
      "\r",
      " 62%|██████████████████████████████████████████████████▍                               | 32/52 [00:03<00:01, 13.05it/s]"
     ]
    },
    {
     "name": "stdout",
     "output_type": "stream",
     "text": [
      "<class 'numpy.ndarray'> E:\\Files\\data\\cut_out\\LepidKr\\LepidKr_011a.tif\n",
      "<class 'numpy.ndarray'> E:\\Files\\data\\cut_out\\LepidKr\\LepidKr_014.tif\n"
     ]
    },
    {
     "name": "stderr",
     "output_type": "stream",
     "text": [
      "\r",
      " 65%|█████████████████████████████████████████████████████▌                            | 34/52 [00:04<00:02,  6.64it/s]"
     ]
    },
    {
     "name": "stdout",
     "output_type": "stream",
     "text": [
      "<class 'numpy.ndarray'> E:\\Files\\data\\cut_out\\LepidKr\\LepidKr_020.tif\n",
      "<class 'numpy.ndarray'> E:\\Files\\data\\cut_out\\LepidKr\\LepidKr_021a.tif\n"
     ]
    },
    {
     "name": "stderr",
     "output_type": "stream",
     "text": [
      " 73%|███████████████████████████████████████████████████████████▉                      | 38/52 [00:04<00:01,  7.34it/s]"
     ]
    },
    {
     "name": "stdout",
     "output_type": "stream",
     "text": [
      "<class 'numpy.ndarray'> E:\\Files\\data\\cut_out\\LepidKr\\LepidKr_023.tif\n",
      "<class 'numpy.ndarray'> E:\\Files\\data\\cut_out\\LepidKr\\LepidKr_025a.tif\n"
     ]
    },
    {
     "name": "stderr",
     "output_type": "stream",
     "text": [
      "\r",
      " 75%|█████████████████████████████████████████████████████████████▌                    | 39/52 [00:05<00:01,  7.74it/s]"
     ]
    },
    {
     "name": "stdout",
     "output_type": "stream",
     "text": [
      "<class 'numpy.ndarray'> E:\\Files\\data\\cut_out\\Leptas\\O_Leptas_001.tif\n",
      "<class 'numpy.ndarray'> E:\\Files\\data\\cut_out\\Leptas\\O_Leptas_002.tif\n",
      "<class 'numpy.ndarray'> E:\\Files\\data\\cut_out\\Leptas\\O_Leptas_003.tif\n"
     ]
    },
    {
     "name": "stderr",
     "output_type": "stream",
     "text": [
      "\r",
      " 79%|████████████████████████████████████████████████████████████████▋                 | 41/52 [00:05<00:01,  8.51it/s]"
     ]
    },
    {
     "name": "stdout",
     "output_type": "stream",
     "text": [
      "<class 'numpy.ndarray'> E:\\Files\\data\\cut_out\\Leptas\\O_Leptas_003b.tif\n"
     ]
    },
    {
     "name": "stderr",
     "output_type": "stream",
     "text": [
      " 85%|█████████████████████████████████████████████████████████████████████▍            | 44/52 [00:06<00:01,  6.09it/s]"
     ]
    },
    {
     "name": "stdout",
     "output_type": "stream",
     "text": [
      "<class 'numpy.ndarray'> E:\\Files\\data\\cut_out\\Leptas\\O_Leptas_004.tif\n",
      "<class 'numpy.ndarray'> E:\\Files\\data\\cut_out\\Leptas\\O_Leptas_005.tif\n"
     ]
    },
    {
     "name": "stderr",
     "output_type": "stream",
     "text": [
      " 88%|████████████████████████████████████████████████████████████████████████▌         | 46/52 [00:06<00:00,  7.20it/s]"
     ]
    },
    {
     "name": "stdout",
     "output_type": "stream",
     "text": [
      "<class 'numpy.ndarray'> E:\\Files\\data\\cut_out\\Leptas\\O_Leptas_020.tif\n",
      "<class 'numpy.ndarray'> E:\\Files\\data\\cut_out\\Lepthak\\O_Lepthak_063a.tif\n"
     ]
    },
    {
     "name": "stderr",
     "output_type": "stream",
     "text": [
      "\r",
      " 90%|██████████████████████████████████████████████████████████████████████████        | 47/52 [00:06<00:00,  7.80it/s]"
     ]
    },
    {
     "name": "stdout",
     "output_type": "stream",
     "text": [
      "<class 'numpy.ndarray'> E:\\Files\\data\\cut_out\\Lepthak\\O_Lepthak_065.tif\n",
      "<class 'numpy.ndarray'> E:\\Files\\data\\cut_out\\Lepthak\\O_Lepthak_065a.tif\n",
      "<class 'numpy.ndarray'> E:\\Files\\data\\cut_out\\Lepthak\\O_Lepthak_066a.tif\n"
     ]
    },
    {
     "name": "stderr",
     "output_type": "stream",
     "text": [
      " 96%|██████████████████████████████████████████████████████████████████████████████▊   | 50/52 [00:06<00:00,  8.82it/s]"
     ]
    },
    {
     "name": "stdout",
     "output_type": "stream",
     "text": [
      "<class 'numpy.ndarray'> E:\\Files\\data\\cut_out\\Lepthak\\O_Lepthak_067a.tif\n",
      "<class 'numpy.ndarray'> E:\\Files\\data\\cut_out\\Lepthak\\O_Lepthak_077a.tif\n"
     ]
    },
    {
     "name": "stderr",
     "output_type": "stream",
     "text": [
      "\r",
      " 98%|████████████████████████████████████████████████████████████████████████████████▍ | 51/52 [00:06<00:00,  5.69it/s]"
     ]
    },
    {
     "name": "stdout",
     "output_type": "stream",
     "text": [
      "<class 'numpy.ndarray'> E:\\Files\\data\\cut_out\\Lepthak\\O_Lepthak_081.tif\n"
     ]
    },
    {
     "name": "stderr",
     "output_type": "stream",
     "text": [
      "100%|██████████████████████████████████████████████████████████████████████████████████| 52/52 [00:07<00:00,  7.02it/s]\n"
     ]
    }
   ],
   "source": [
    "for filepath in tqdm(glob.glob(path + \"/**/*.tif\")):\n",
    "    #print(filepath)\n",
    "    img = cv2.imread(filepath, cv2.IMREAD_GRAYSCALE)\n",
    "    print(type(img), filepath)\n",
    "    # Убираем вкрапления в маску\n",
    "    #kernel = np.ones((5, 5), np.uint8)\n",
    "    #mask = cv2.morphologyEx(mask, cv2.MORPH_CLOSE, kernel)\n",
    "    #ask = cv2.morphologyEx(mask, cv2.MORPH_CLOSE, kernel)\n",
    "    #mask = cv2.dilate(mask, kernel, iterations=4)\n",
    "    try: \n",
    "        mask = detect_largest_poly(img)\n",
    "    except:\n",
    "        continue\n",
    "    # создаем папку\n",
    "    folder = filepath.replace('cut_out', 'mask')\n",
    "    folder = folder[:folder.find('k\\\\')+1]\n",
    "    os.makedirs(folder, exist_ok=True)\n",
    "    filename = filepath.split('\\\\')[-1]\n",
    "    \n",
    "    cv2.imwrite(os.path.join(folder, filename), mask.astype(np.float32))\n",
    "    "
   ]
  },
  {
   "cell_type": "code",
   "execution_count": 12,
   "id": "bc8b689f",
   "metadata": {
    "scrolled": true
   },
   "outputs": [
    {
     "name": "stdout",
     "output_type": "stream",
     "text": [
      "E:\\Files\\data\\new_images\\Leptsch_011.tif\n",
      "<class 'numpy.ndarray'>\n",
      "[  0   1   2   3   4   5   6   7   8   9  10  11  12  13  14  15  16  17\n",
      "  18  19  20  21  22  23  24  25  26  27  28  29  30  31  32  33  34  35\n",
      "  36  37  38  39  40  41  42  43  44  45  46  47  48  49  50  51  52  53\n",
      "  54  55  56  57  58  59  60  61  62  63  64  65  66  67  68  69  70  71\n",
      "  72  73  74  75  76  77  78  79  80  81  82  83  84  85  86  87  88  89\n",
      "  90  91  92  93  94  95  96  97  98  99 100 101 102 103 104 105 106 107\n",
      " 108 109 110 111 112 113 114 115 116 117 118 119 120 121 122 123 124 125\n",
      " 126 127 128 129 130 131 132 133 134 135 136 137 138 139 140 141 142 143\n",
      " 144 145 146 147 148 149 150 151 152 153 154 155 156 157 158 159 160 161\n",
      " 162 163 164 165 166 167 168 169 170 171 172 173 174 175 176 177 178 179\n",
      " 180 181 182 183 184 185 186 187 188 189 190 191 192 193 194 195 196 197\n",
      " 198 199 200 201 202 203 204 205 206 207 208 209 210 211 212 213 214 215\n",
      " 216 217 218 219 220 221 222 223 224 225 226 227 228 229 230 231 232 233\n",
      " 234 235 236 237 238 239 240 241 242 243 244 245 246 247 248 249 250 251\n",
      " 252 253 254 255]\n"
     ]
    }
   ],
   "source": [
    "filepath = r'E:\\Files\\data\\new_images\\Leptsch_011.tif'\n",
    "print(filepath)\n",
    "#filepath = 'E:\\\\008.jpg'\n",
    "#filepath = 'E:\\Files\\data\\cut_out\\LepidKr\\LepidKr_001.tif'\n",
    "\n",
    "img = cv2.imread(filepath, cv2.IMREAD_GRAYSCALE)\n",
    "print(type(img))\n",
    "print(np.unique(img))\n",
    "#img = cv2.cvtColor(img, cv2.COLOR_RGB2GRAY)\n",
    "\n",
    "#plt.imshow(img, cmap='gray')\n",
    "#new_img = detect_largest_poly(img)\n",
    "#plt.imshow(new_img, cmap='gray')\n",
    "\n",
    "#cv2.imwrite('E:\\\\Files\\\\data\\\\sample.tif', new_img.astype(np.float32))"
   ]
  },
  {
   "cell_type": "code",
   "execution_count": 11,
   "id": "53c3afa5",
   "metadata": {},
   "outputs": [
    {
     "name": "stdout",
     "output_type": "stream",
     "text": [
      "[255.]\n"
     ]
    }
   ],
   "source": [
    "filepath = r'E:\\Files\\data\\sample.tiff'\n",
    "#filepath = 'E:\\\\008.jpg'\n",
    "#filepath = 'E:\\Files\\data\\cut_out\\LepidKr\\LepidKr_001.tif'\n",
    "\n",
    "img = cv2.imread(filepath, cv2.IMREAD_UNCHANGED)\n",
    "np.unique(img)"
   ]
  },
  {
   "cell_type": "code",
   "execution_count": 76,
   "id": "0234d023",
   "metadata": {
    "scrolled": true
   },
   "outputs": [
    {
     "name": "stdout",
     "output_type": "stream",
     "text": [
      "\n"
     ]
    },
    {
     "data": {
      "text/plain": [
       "<matplotlib.image.AxesImage at 0x23917e65790>"
      ]
     },
     "execution_count": 76,
     "metadata": {},
     "output_type": "execute_result"
    },
    {
     "data": {
      "image/png": "[encoded data removed]",
      "text/plain": [
       "<Figure size 640x480 with 1 Axes>"
      ]
     },
     "metadata": {},
     "output_type": "display_data"
    }
   ],
   "source": [
    "mask = create_mask(img)\n",
    "cv2.imwrite(filepath.replace('cut_out', 'mask'), mask*255)\n",
    "plt.imshow(mask, cmap='gray')\n"
   ]
  },
  {
   "cell_type": "code",
   "execution_count": 78,
   "id": "85ae35c8",
   "metadata": {
    "scrolled": true
   },
   "outputs": [
    {
     "data": {
      "text/plain": [
       "<matplotlib.image.AxesImage at 0x2391b459fd0>"
      ]
     },
     "execution_count": 78,
     "metadata": {},
     "output_type": "execute_result"
    },
    {
     "data": {
      "image/png": "[encoded data removed]",
      "text/plain": [
       "<Figure size 640x480 with 1 Axes>"
      ]
     },
     "metadata": {},
     "output_type": "display_data"
    }
   ],
   "source": [
    "kernel = np.ones((3, 3), np.uint8)\n",
    "#closing = cv2.morphologyEx(mask, cv2.MORPH_CLOSE, kernel)\n",
    "dilate_mask = cv2.dilate(mask, kernel, iterations=4)\n",
    "plt.imshow(dilate_mask, cmap='gray')"
   ]
  },
  {
   "cell_type": "code",
   "execution_count": 80,
   "id": "5aa165a0",
   "metadata": {
    "scrolled": true
   },
   "outputs": [
    {
     "data": {
      "text/plain": [
       "<matplotlib.image.AxesImage at 0x2391b53ea60>"
      ]
     },
     "execution_count": 80,
     "metadata": {},
     "output_type": "execute_result"
    },
    {
     "data": {
      "image/png": "[encoded data removed]",
      "text/plain": [
       "<Figure size 640x480 with 1 Axes>"
      ]
     },
     "metadata": {},
     "output_type": "display_data"
    }
   ],
   "source": [
    "dilate_mask = cv2.morphologyEx(dilate_mask, cv2.MORPH_OPEN, kernel)\n",
    "dilate_mask = cv2.morphologyEx(dilate_mask, cv2.MORPH_OPEN, kernel)\n",
    "plt.imshow(dilate_mask, cmap='gray')"
   ]
  }
 ],
 "metadata": {
  "kernelspec": {
   "display_name": "Python 3 (ipykernel)",
   "language": "python",
   "name": "python3"
  },
  "language_info": {
   "codemirror_mode": {
    "name": "ipython",
    "version": 3
   },
   "file_extension": ".py",
   "mimetype": "text/x-python",
   "name": "python",
   "nbconvert_exporter": "python",
   "pygments_lexer": "ipython3",
   "version": "3.9.13"
  }
 },
 "nbformat": 4,
 "nbformat_minor": 5
}
